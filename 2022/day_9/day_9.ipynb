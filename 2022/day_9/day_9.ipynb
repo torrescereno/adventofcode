{
 "cells": [
  {
   "cell_type": "code",
   "execution_count": 1,
   "id": "initial_id",
   "metadata": {
    "collapsed": true,
    "ExecuteTime": {
     "end_time": "2023-12-04T00:46:33.736071800Z",
     "start_time": "2023-12-04T00:46:33.721417400Z"
    }
   },
   "outputs": [],
   "source": [
    "import os"
   ]
  },
  {
   "cell_type": "code",
   "execution_count": 57,
   "outputs": [],
   "source": [
    "with open(\"input.txt\", \"r\") as f:\n",
    "    data = f.read().splitlines()"
   ],
   "metadata": {
    "collapsed": false,
    "ExecuteTime": {
     "end_time": "2023-12-05T02:38:24.296717100Z",
     "start_time": "2023-12-05T02:38:24.287717700Z"
    }
   },
   "id": "c0f95072506cdd40"
  },
  {
   "cell_type": "markdown",
   "source": [
    "Parte 1"
   ],
   "metadata": {
    "collapsed": false
   },
   "id": "627f5097c73623c8"
  },
  {
   "cell_type": "code",
   "execution_count": 70,
   "outputs": [
    {
     "data": {
      "text/plain": "6354"
     },
     "execution_count": 70,
     "metadata": {},
     "output_type": "execute_result"
    }
   ],
   "source": [
    "directions = {\"R\": (1, 0), \"L\": (-1, 0), \"U\": (0, -1), \"D\": (0, 1)}\n",
    "knots = [(0, 0) for _ in range(2)]\n",
    "\n",
    "positions = set()\n",
    "positions.add(knots[-1])\n",
    "\n",
    "for line in data:\n",
    "    _dir, n = line.split()\n",
    "\n",
    "    for _ in range(int(n)):\n",
    "        knots[0] = (knots[0][0] + directions[_dir][0], knots[0][1] + directions[_dir][1])\n",
    "\n",
    "        for idx in range(2 - 1):\n",
    "            _w = knots[idx][0] - knots[idx + 1][0]\n",
    "            _h = knots[idx][1] - knots[idx + 1][1]\n",
    "            dx, dy = 0, 0\n",
    "            if abs(_w) == 2 or abs(_h) == 2:\n",
    "                dx = 0 if _w == 0 else 1 if _w > 0 else -1\n",
    "                dy = 0 if _h == 0 else 1 if _h > 0 else -1\n",
    "            if dx or dy:\n",
    "                knots[idx + 1] = (knots[idx + 1][0] + dx, knots[idx + 1][1] + dy)\n",
    "        positions.add(knots[-1])\n",
    "len(positions)"
   ],
   "metadata": {
    "collapsed": false,
    "ExecuteTime": {
     "end_time": "2023-12-05T02:41:09.070054800Z",
     "start_time": "2023-12-05T02:41:09.012269500Z"
    }
   },
   "id": "f24992538b3a11c7"
  },
  {
   "cell_type": "markdown",
   "source": [
    "Parte 2"
   ],
   "metadata": {
    "collapsed": false
   },
   "id": "a12ad703cf672db0"
  },
  {
   "cell_type": "code",
   "execution_count": 71,
   "outputs": [
    {
     "data": {
      "text/plain": "2651"
     },
     "execution_count": 71,
     "metadata": {},
     "output_type": "execute_result"
    }
   ],
   "source": [
    "directions = {\"R\": (1, 0), \"L\": (-1, 0), \"U\": (0, -1), \"D\": (0, 1)}\n",
    "knots = [(0, 0) for _ in range(10)]\n",
    "\n",
    "positions = set()\n",
    "positions.add(knots[-1])\n",
    "\n",
    "for line in data:\n",
    "    _dir, n = line.split()\n",
    "\n",
    "    for _ in range(int(n)):\n",
    "        knots[0] = (knots[0][0] + directions[_dir][0], knots[0][1] + directions[_dir][1])\n",
    "\n",
    "        for idx in range(10 - 1):\n",
    "            _w = knots[idx][0] - knots[idx + 1][0]\n",
    "            _h = knots[idx][1] - knots[idx + 1][1]\n",
    "            dx, dy = 0, 0\n",
    "            if abs(_w) == 2 or abs(_h) == 2:\n",
    "                dx = 0 if _w == 0 else 1 if _w > 0 else -1\n",
    "                dy = 0 if _h == 0 else 1 if _h > 0 else -1\n",
    "            if dx or dy:\n",
    "                knots[idx + 1] = (knots[idx + 1][0] + dx, knots[idx + 1][1] + dy)\n",
    "        positions.add(knots[-1])\n",
    "len(positions)"
   ],
   "metadata": {
    "collapsed": false,
    "ExecuteTime": {
     "end_time": "2023-12-05T02:41:09.381247900Z",
     "start_time": "2023-12-05T02:41:09.319086200Z"
    }
   },
   "id": "8eeabdffaf36b01d"
  },
  {
   "cell_type": "code",
   "execution_count": null,
   "outputs": [],
   "source": [],
   "metadata": {
    "collapsed": false
   },
   "id": "a60760e5c2ddfddf"
  }
 ],
 "metadata": {
  "kernelspec": {
   "display_name": "Python 3",
   "language": "python",
   "name": "python3"
  },
  "language_info": {
   "codemirror_mode": {
    "name": "ipython",
    "version": 2
   },
   "file_extension": ".py",
   "mimetype": "text/x-python",
   "name": "python",
   "nbconvert_exporter": "python",
   "pygments_lexer": "ipython2",
   "version": "2.7.6"
  }
 },
 "nbformat": 4,
 "nbformat_minor": 5
}
