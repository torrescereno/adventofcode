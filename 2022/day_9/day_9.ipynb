{
 "cells": [
  {
   "cell_type": "code",
   "execution_count": 1,
   "id": "initial_id",
   "metadata": {
    "collapsed": true,
    "ExecuteTime": {
     "end_time": "2023-12-04T00:46:33.736071800Z",
     "start_time": "2023-12-04T00:46:33.721417400Z"
    }
   },
   "outputs": [],
   "source": [
    "import os"
   ]
  },
  {
   "cell_type": "code",
   "execution_count": 182,
   "outputs": [],
   "source": [
    "with open(\"input.txt\", \"r\") as f:\n",
    "    data = f.read().split(\"\\n\")"
   ],
   "metadata": {
    "collapsed": false,
    "ExecuteTime": {
     "end_time": "2023-12-04T02:46:20.281864500Z",
     "start_time": "2023-12-04T02:46:20.276866200Z"
    }
   },
   "id": "c0f95072506cdd40"
  },
  {
   "cell_type": "markdown",
   "source": [
    "Parte 1"
   ],
   "metadata": {
    "collapsed": false
   },
   "id": "627f5097c73623c8"
  },
  {
   "cell_type": "code",
   "execution_count": 192,
   "outputs": [
    {
     "name": "stdout",
     "output_type": "stream",
     "text": [
      "6354\n"
     ]
    }
   ],
   "source": [
    "pos_h = [0, 0]\n",
    "pos_t = [0, 0]\n",
    "pos_total = {(0, 0)}\n",
    "\n",
    "pos = [(mov.split()[0], int(mov.split()[1])) for mov in data]\n",
    "# pos = [('R', 4), ('U', 4), (\"L\", 3)]\n",
    "\n",
    "moves = {\"L\": (0, -1), \"R\": (0, 1), \"U\": (1, 1), \"D\": (1, -1)}\n",
    "\n",
    "for move, num in pos:\n",
    "    axis, sign = moves[move]\n",
    "    pos_h[axis] += sign * num\n",
    "    \n",
    "    if abs(pos_h[axis] - pos_t[axis]) > 1:\n",
    "        if pos_t[1 - axis] != pos_h[1 - axis]:\n",
    "            pos_t[1 - axis] = pos_h[1 - axis]\n",
    "            pos_t[axis] += sign\n",
    "            pos_total.add(tuple(pos_t))\n",
    "        \n",
    "        while abs(pos_t[axis] - pos_h[axis]) > 1:\n",
    "            pos_t[axis] += sign\n",
    "            pos_total.add(tuple(pos_t))\n",
    "\n",
    "print(len(pos_total))"
   ],
   "metadata": {
    "collapsed": false,
    "ExecuteTime": {
     "end_time": "2023-12-04T02:50:15.841234200Z",
     "start_time": "2023-12-04T02:50:15.786583400Z"
    }
   },
   "id": "f24992538b3a11c7"
  },
  {
   "cell_type": "code",
   "execution_count": 186,
   "outputs": [],
   "source": [],
   "metadata": {
    "collapsed": false,
    "ExecuteTime": {
     "end_time": "2023-12-04T02:49:35.039296Z",
     "start_time": "2023-12-04T02:49:35.017434400Z"
    }
   },
   "id": "5e1eb5c462c9d1d0"
  },
  {
   "cell_type": "code",
   "execution_count": null,
   "outputs": [],
   "source": [],
   "metadata": {
    "collapsed": false
   },
   "id": "8abf79404798fec7"
  }
 ],
 "metadata": {
  "kernelspec": {
   "display_name": "Python 3",
   "language": "python",
   "name": "python3"
  },
  "language_info": {
   "codemirror_mode": {
    "name": "ipython",
    "version": 2
   },
   "file_extension": ".py",
   "mimetype": "text/x-python",
   "name": "python",
   "nbconvert_exporter": "python",
   "pygments_lexer": "ipython2",
   "version": "2.7.6"
  }
 },
 "nbformat": 4,
 "nbformat_minor": 5
}
