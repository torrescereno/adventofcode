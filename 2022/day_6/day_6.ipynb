{
 "cells": [
  {
   "cell_type": "code",
   "execution_count": 67,
   "metadata": {},
   "outputs": [],
   "source": [
    "import os"
   ]
  },
  {
   "cell_type": "code",
   "execution_count": 113,
   "metadata": {},
   "outputs": [],
   "source": [
    "def foo(lista: list, start: int) -> int:    \n",
    "    lista_temp = []\n",
    "    count = 1\n",
    "    index = 0\n",
    "    \n",
    "    for letter in lista:\n",
    "        \n",
    "        if letter in lista_temp:\n",
    "            index = lista.index(letter, 0) + 1\n",
    "            break\n",
    "        \n",
    "        if count == start:\n",
    "            index = start\n",
    "            break\n",
    "        \n",
    "        lista_temp.append(letter)\n",
    "        count += 1\n",
    "    \n",
    "    return index"
   ]
  },
  {
   "attachments": {},
   "cell_type": "markdown",
   "metadata": {},
   "source": [
    "## Part 1"
   ]
  },
  {
   "cell_type": "code",
   "execution_count": 114,
   "metadata": {},
   "outputs": [
    {
     "name": "stdout",
     "output_type": "stream",
     "text": [
      "1896\n"
     ]
    }
   ],
   "source": [
    "with open(os.path.join(\"input.txt\")) as f:\n",
    "    data = f.read()\n",
    "\n",
    "data = list(data)\n",
    "count = 0\n",
    "\n",
    "while True:\n",
    "    \n",
    "    index = foo(data, 4)\n",
    "    data = data[index:]\n",
    "    count += index\n",
    "    \n",
    "    if index == 4:\n",
    "        print(count)\n",
    "        # count = 0\n",
    "        break\n",
    "        \n",
    "    \n",
    "    if index == 0:\n",
    "        break\n",
    "    "
   ]
  },
  {
   "attachments": {},
   "cell_type": "markdown",
   "metadata": {},
   "source": [
    "## Part 2"
   ]
  },
  {
   "cell_type": "code",
   "execution_count": 115,
   "metadata": {},
   "outputs": [
    {
     "name": "stdout",
     "output_type": "stream",
     "text": [
      "3452\n"
     ]
    }
   ],
   "source": [
    "with open(os.path.join(\"input.txt\")) as f:\n",
    "    data = f.read()\n",
    "\n",
    "data = list(data)\n",
    "count = 0\n",
    "\n",
    "while True:\n",
    "    \n",
    "    index = foo(data, 14)\n",
    "    data = data[index:]\n",
    "    count += index\n",
    "    \n",
    "    if index == 14:\n",
    "        print(count)\n",
    "        # count = 0\n",
    "        break\n",
    "        \n",
    "    \n",
    "    if index == 0:\n",
    "        break"
   ]
  }
 ],
 "metadata": {
  "kernelspec": {
   "display_name": "venv",
   "language": "python",
   "name": "python3"
  },
  "language_info": {
   "codemirror_mode": {
    "name": "ipython",
    "version": 3
   },
   "file_extension": ".py",
   "mimetype": "text/x-python",
   "name": "python",
   "nbconvert_exporter": "python",
   "pygments_lexer": "ipython3",
   "version": "3.10.9"
  },
  "orig_nbformat": 4,
  "vscode": {
   "interpreter": {
    "hash": "382060a362c47fe82f71ef3a6add522307ee4f24e5e14907505c1dcc86c4b41e"
   }
  }
 },
 "nbformat": 4,
 "nbformat_minor": 2
}
