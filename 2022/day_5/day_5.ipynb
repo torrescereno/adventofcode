{
 "cells": [
  {
   "cell_type": "code",
   "execution_count": 1,
   "metadata": {},
   "outputs": [],
   "source": [
    "import os"
   ]
  },
  {
   "attachments": {},
   "cell_type": "markdown",
   "metadata": {},
   "source": [
    "## Part 1"
   ]
  },
  {
   "cell_type": "code",
   "execution_count": 99,
   "metadata": {},
   "outputs": [
    {
     "data": {
      "text/plain": [
       "'RNZLFZSJH'"
      ]
     },
     "execution_count": 99,
     "metadata": {},
     "output_type": "execute_result"
    }
   ],
   "source": [
    "with open(os.path.join(\"input.txt\")) as f:\n",
    "    data = f.read().splitlines()\n",
    "    \n",
    "data = [x.split(' ') for x in data]\n",
    "\n",
    "container = {\n",
    "    '1': ['H', 'R', 'B', 'D', 'Z', 'F', 'L', 'S'],\n",
    "    '2': ['T', 'B', 'M', 'Z', 'R'],\n",
    "    '3': ['Z', 'L', 'C', 'H', 'N', 'S'],\n",
    "    '4': ['S', 'C', 'F', 'J'],\n",
    "    '5': ['P', 'G', 'H', 'W', 'R', 'Z', 'B'],\n",
    "    '6': ['V', 'J', 'Z', 'G', 'D', 'N', 'M', 'T'],\n",
    "    '7': ['G', 'L', 'N', 'W', 'F', 'S', 'P', 'Q'],\n",
    "    '8': ['M', 'Z', 'R'],\n",
    "    '9': ['M', 'C', 'L', 'G', 'V', 'R', 'T']\n",
    "}\n",
    "\n",
    "for item in data:\n",
    "    count = item[1]\n",
    "    start = item[3]\n",
    "    end = item[5]\n",
    "    \n",
    "    for index in range(0, int(count)):\n",
    "        \n",
    "        valor = container[str(start)][-1:]\n",
    "\n",
    "        container[str(start)].pop(-1)\n",
    "        container[str(end)].append(valor[0])\n",
    "\n",
    "lasted = ''\n",
    "for item in container:\n",
    "    lasted += container[item][-1:][0]\n",
    "\n",
    "lasted"
   ]
  },
  {
   "attachments": {},
   "cell_type": "markdown",
   "metadata": {},
   "source": [
    "## Part 2"
   ]
  },
  {
   "cell_type": "code",
   "execution_count": 158,
   "metadata": {},
   "outputs": [
    {
     "data": {
      "text/plain": [
       "'CNSFCGJSM'"
      ]
     },
     "execution_count": 158,
     "metadata": {},
     "output_type": "execute_result"
    }
   ],
   "source": [
    "with open(os.path.join(\"input.txt\")) as f:\n",
    "    data = f.read().splitlines()\n",
    "    \n",
    "data = [x.split(' ') for x in data]\n",
    "\n",
    "container = {\n",
    "    '1': ['H', 'R', 'B', 'D', 'Z', 'F', 'L', 'S'],\n",
    "    '2': ['T', 'B', 'M', 'Z', 'R'],\n",
    "    '3': ['Z', 'L', 'C', 'H', 'N', 'S'],\n",
    "    '4': ['S', 'C', 'F', 'J'],\n",
    "    '5': ['P', 'G', 'H', 'W', 'R', 'Z', 'B'],\n",
    "    '6': ['V', 'J', 'Z', 'G', 'D', 'N', 'M', 'T'],\n",
    "    '7': ['G', 'L', 'N', 'W', 'F', 'S', 'P', 'Q'],\n",
    "    '8': ['M', 'Z', 'R'],\n",
    "    '9': ['M', 'C', 'L', 'G', 'V', 'R', 'T']\n",
    "}\n",
    "\n",
    "for item in data:\n",
    "    count = int(item[1])\n",
    "    start = item[3]\n",
    "    end = item[5]\n",
    "    \n",
    "    valor = container[str(start)][count * -1:]\n",
    "    \n",
    "    for c in range(0, count):\n",
    "        container[str(start)].pop(-1)\n",
    "\n",
    "    for i in valor:\n",
    "        container[str(end)].append(i)\n",
    "    \n",
    "latest = ''\n",
    "for item in container:\n",
    "    latest += container[item][-1:][0]\n",
    "\n",
    "latest"
   ]
  }
 ],
 "metadata": {
  "kernelspec": {
   "display_name": "venv",
   "language": "python",
   "name": "python3"
  },
  "language_info": {
   "codemirror_mode": {
    "name": "ipython",
    "version": 3
   },
   "file_extension": ".py",
   "mimetype": "text/x-python",
   "name": "python",
   "nbconvert_exporter": "python",
   "pygments_lexer": "ipython3",
   "version": "3.10.9"
  },
  "orig_nbformat": 4,
  "vscode": {
   "interpreter": {
    "hash": "382060a362c47fe82f71ef3a6add522307ee4f24e5e14907505c1dcc86c4b41e"
   }
  }
 },
 "nbformat": 4,
 "nbformat_minor": 2
}
