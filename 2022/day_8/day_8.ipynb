{
 "cells": [
  {
   "cell_type": "code",
   "execution_count": 1,
   "metadata": {
    "collapsed": true
   },
   "outputs": [],
   "source": [
    "import os\n",
    "import numpy as np"
   ]
  },
  {
   "cell_type": "markdown",
   "source": [
    "## Part 1"
   ],
   "metadata": {
    "collapsed": false
   }
  },
  {
   "cell_type": "code",
   "execution_count": 2,
   "outputs": [],
   "source": [
    "test = \"\"\"30373\n",
    "25512\n",
    "65332\n",
    "33549\n",
    "35390\n",
    "\"\"\""
   ],
   "metadata": {
    "collapsed": false
   }
  },
  {
   "cell_type": "code",
   "execution_count": 3,
   "outputs": [
    {
     "name": "stdout",
     "output_type": "stream",
     "text": [
      "1779\n"
     ]
    }
   ],
   "source": [
    "with open(\"input.txt\", \"r\") as f:\n",
    "    data = f.read()\n",
    "\n",
    "data = [list(map(int, l)) for l in data.splitlines()]\n",
    "total = 0\n",
    "\n",
    "rows = len(data)\n",
    "cols = len(data[0])\n",
    "\n",
    "for r in range(rows):\n",
    "    for c in range(cols):\n",
    "        up = all([data[i][c] < data[r][c] for i in range(r)])\n",
    "        down = all([data[i][c] < data[r][c] for i in range(r + 1, rows)])\n",
    "        left = all([data[r][i] < data[r][c] for i in range(c)])\n",
    "        right = all([data[r][i] < data[r][c] for i in range(c + 1, cols)])\n",
    "\n",
    "        if left or right or up or down:\n",
    "            total += 1\n",
    "\n",
    "print(total)\n"
   ],
   "metadata": {
    "collapsed": false
   }
  },
  {
   "cell_type": "markdown",
   "source": [
    "## Part 2"
   ],
   "metadata": {
    "collapsed": false
   }
  },
  {
   "cell_type": "code",
   "execution_count": 4,
   "outputs": [
    {
     "name": "stdout",
     "output_type": "stream",
     "text": [
      "172224\n"
     ]
    }
   ],
   "source": [
    "with open(\"input.txt\", \"r\") as f:\n",
    "    data = f.read()\n",
    "\n",
    "data = [list(map(int, l)) for l in data.split(\"\\n\")]\n",
    "score = 0\n",
    "rows = len(data)\n",
    "cols = len(data[0])\n",
    "\n",
    "for r in range(rows):\n",
    "    for c in range(cols):\n",
    "        up = down = left = right = 0\n",
    "\n",
    "        for i in range(r - 1, -1, -1):\n",
    "            up += 1\n",
    "            if data[i][c] >= data[r][c]:\n",
    "                break\n",
    "\n",
    "        for i in range(r + 1, rows):\n",
    "            down += 1\n",
    "            if data[i][c] >= data[r][c]:\n",
    "                break\n",
    "\n",
    "        for i in range(c - 1, -1, -1):\n",
    "            left += 1\n",
    "            if data[r][i] >= data[r][c]:\n",
    "                break\n",
    "\n",
    "        for i in range(c + 1, cols):\n",
    "            right += 1\n",
    "            if data[r][i] >= data[r][c]:\n",
    "                break\n",
    "\n",
    "        score = max(score, up * down * left * right)\n",
    "\n",
    "print(score)"
   ],
   "metadata": {
    "collapsed": false
   }
  }
 ],
 "metadata": {
  "kernelspec": {
   "display_name": "Python 3",
   "language": "python",
   "name": "python3"
  },
  "language_info": {
   "codemirror_mode": {
    "name": "ipython",
    "version": 2
   },
   "file_extension": ".py",
   "mimetype": "text/x-python",
   "name": "python",
   "nbconvert_exporter": "python",
   "pygments_lexer": "ipython2",
   "version": "2.7.6"
  }
 },
 "nbformat": 4,
 "nbformat_minor": 0
}
