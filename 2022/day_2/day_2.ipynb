{
 "cells": [
  {
   "cell_type": "code",
   "execution_count": 1,
   "metadata": {},
   "outputs": [],
   "source": [
    "import os"
   ]
  },
  {
   "attachments": {},
   "cell_type": "markdown",
   "metadata": {},
   "source": [
    "## Part 1"
   ]
  },
  {
   "cell_type": "code",
   "execution_count": null,
   "metadata": {},
   "outputs": [],
   "source": [
    "# opponent\n",
    "\n",
    "# A -> Rock \n",
    "# B -> Paper\n",
    "# C -> Sicssors\n",
    "\n",
    "# Strategy\n",
    "\n",
    "# X -> Rock\n",
    "# Y -> Paper\n",
    "# Z -> Sicssors\n",
    "\n",
    "# Base\n",
    "\n",
    "# 1 point if you choose rock\n",
    "# 2 points if you choose paper\n",
    "# 3 points if you choose scissors\n",
    "\n",
    "# Results\n",
    "\n",
    "# 0 points if you lose\n",
    "# 3 points if you tie\n",
    "# 6 points if you win"
   ]
  },
  {
   "cell_type": "code",
   "execution_count": 40,
   "metadata": {},
   "outputs": [
    {
     "data": {
      "text/plain": [
       "15572"
      ]
     },
     "execution_count": 40,
     "metadata": {},
     "output_type": "execute_result"
    }
   ],
   "source": [
    "with open(os.path.join(\"input.txt\")) as f:\n",
    "    data = f.read().splitlines()\n",
    "\n",
    "points = {\n",
    "    \"A\": {\n",
    "        \"X\": 4,\n",
    "        \"Y\": 8,\n",
    "        \"Z\": 3\n",
    "    },\n",
    "    \"B\": {\n",
    "        \"X\": 1,\n",
    "        \"Y\": 5,\n",
    "        \"Z\": 9\n",
    "    },\n",
    "    \"C\": {\n",
    "        \"X\": 7,\n",
    "        \"Y\": 2,\n",
    "        \"Z\": 6\n",
    "    }\n",
    "}\n",
    "\n",
    "total = 0\n",
    "\n",
    "for x in [x.split(\" \") for x in data]:\n",
    "    opponent = x[0]\n",
    "    strategy = x[1]\n",
    "\n",
    "    total += points[opponent][strategy]\n",
    "\n",
    "total"
   ]
  },
  {
   "attachments": {},
   "cell_type": "markdown",
   "metadata": {},
   "source": [
    "## Part 2"
   ]
  },
  {
   "cell_type": "code",
   "execution_count": null,
   "metadata": {},
   "outputs": [],
   "source": [
    "# X -> Lose\n",
    "# Y -> Tie\n",
    "# Z -> Win\n"
   ]
  },
  {
   "cell_type": "code",
   "execution_count": 41,
   "metadata": {},
   "outputs": [
    {
     "data": {
      "text/plain": [
       "16098"
      ]
     },
     "execution_count": 41,
     "metadata": {},
     "output_type": "execute_result"
    }
   ],
   "source": [
    "points = {\n",
    "    \"A\": {\n",
    "        \"X\": 3,\n",
    "        \"Y\": 4,\n",
    "        \"Z\": 8\n",
    "    },\n",
    "    \"B\": {\n",
    "        \"X\": 1,\n",
    "        \"Y\": 5,\n",
    "        \"Z\": 9\n",
    "    },\n",
    "    \"C\": {\n",
    "        \"X\": 2,\n",
    "        \"Y\": 6,\n",
    "        \"Z\": 7\n",
    "    }\n",
    "}\n",
    "\n",
    "total = 0\n",
    "\n",
    "for x in [x.split(\" \") for x in data]:\n",
    "    opponent = x[0]\n",
    "    strategy = x[1]\n",
    "\n",
    "    total += points[opponent][strategy]\n",
    "\n",
    "total"
   ]
  }
 ],
 "metadata": {
  "kernelspec": {
   "display_name": "venv",
   "language": "python",
   "name": "python3"
  },
  "language_info": {
   "codemirror_mode": {
    "name": "ipython",
    "version": 3
   },
   "file_extension": ".py",
   "mimetype": "text/x-python",
   "name": "python",
   "nbconvert_exporter": "python",
   "pygments_lexer": "ipython3",
   "version": "3.10.9 (main, Dec 24 2022, 17:12:29) [GCC 11.3.0]"
  },
  "orig_nbformat": 4,
  "vscode": {
   "interpreter": {
    "hash": "382060a362c47fe82f71ef3a6add522307ee4f24e5e14907505c1dcc86c4b41e"
   }
  }
 },
 "nbformat": 4,
 "nbformat_minor": 2
}
