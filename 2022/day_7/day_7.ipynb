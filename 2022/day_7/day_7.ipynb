{
 "cells": [
  {
   "cell_type": "code",
   "execution_count": 1,
   "metadata": {},
   "outputs": [],
   "source": [
    "import os\n",
    "from collections import deque"
   ]
  },
  {
   "attachments": {},
   "cell_type": "markdown",
   "metadata": {},
   "source": [
    "## Part 1"
   ]
  },
  {
   "cell_type": "code",
   "execution_count": 3,
   "metadata": {},
   "outputs": [
    {
     "data": {
      "text/plain": "1490523"
     },
     "execution_count": 3,
     "metadata": {},
     "output_type": "execute_result"
    }
   ],
   "source": [
    "with open(os.path.join(\"input.txt\")) as f:\n",
    "    data = f.read().splitlines()\n",
    "\n",
    "path = deque()\n",
    "dirs = {}\n",
    "\n",
    "for value in data:\n",
    "\n",
    "    line = value.split(\" \")\n",
    "    \n",
    "    if \"$ cd\" in value:\n",
    "\n",
    "        name_folder = line[2]\n",
    "        \n",
    "        if \"..\" in value:\n",
    "            path.pop()\n",
    "        else:\n",
    "            path.append(name_folder)\n",
    "            dirs[\"/\".join(path)] = 0\n",
    "            \n",
    "    if line[0].isnumeric():\n",
    "        tmp_path = path.copy()\n",
    "\n",
    "        while len(tmp_path) != 0:\n",
    "            dirs[\"/\".join(tmp_path)] += int(line[0])\n",
    "            tmp_path.pop()\n",
    "\n",
    "total = 0\n",
    "\n",
    "for size in dirs.values():\n",
    "\n",
    "    if size <= 100000:\n",
    "        total += size\n",
    "        \n",
    "total\n",
    "        "
   ]
  },
  {
   "attachments": {},
   "cell_type": "markdown",
   "metadata": {},
   "source": [
    "## Part 2"
   ]
  },
  {
   "cell_type": "code",
   "execution_count": 5,
   "metadata": {},
   "outputs": [
    {
     "data": {
      "text/plain": "12390492"
     },
     "execution_count": 5,
     "metadata": {},
     "output_type": "execute_result"
    }
   ],
   "source": [
    "total = 70000000\n",
    "need = 30000000\n",
    "result = 0\n",
    "\n",
    "for size in sorted(dirs.values()):\n",
    "    if size >= need - (total - dirs[\"/\"]):\n",
    "        result = size\n",
    "        break\n",
    "\n",
    "result"
   ]
  }
 ],
 "metadata": {
  "kernelspec": {
   "display_name": "venv",
   "language": "python",
   "name": "python3"
  },
  "language_info": {
   "codemirror_mode": {
    "name": "ipython",
    "version": 3
   },
   "file_extension": ".py",
   "mimetype": "text/x-python",
   "name": "python",
   "nbconvert_exporter": "python",
   "pygments_lexer": "ipython3",
   "version": "3.10.9 (main, Dec 24 2022, 17:12:29) [GCC 11.3.0]"
  },
  "orig_nbformat": 4,
  "vscode": {
   "interpreter": {
    "hash": "382060a362c47fe82f71ef3a6add522307ee4f24e5e14907505c1dcc86c4b41e"
   }
  }
 },
 "nbformat": 4,
 "nbformat_minor": 2
}
