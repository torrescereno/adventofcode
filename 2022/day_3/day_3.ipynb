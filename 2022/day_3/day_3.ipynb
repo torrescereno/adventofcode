{
 "cells": [
  {
   "cell_type": "code",
   "execution_count": 138,
   "metadata": {},
   "outputs": [],
   "source": [
    "import os\n",
    "from collections import Counter"
   ]
  },
  {
   "attachments": {},
   "cell_type": "markdown",
   "metadata": {},
   "source": [
    "## Part 1"
   ]
  },
  {
   "cell_type": "code",
   "execution_count": 178,
   "metadata": {},
   "outputs": [
    {
     "data": {
      "text/plain": [
       "7581"
      ]
     },
     "execution_count": 178,
     "metadata": {},
     "output_type": "execute_result"
    }
   ],
   "source": [
    "\n",
    "with open(os.path.join(\"input.txt\")) as f:\n",
    "    data = f.read().splitlines()\n",
    "\n",
    "lowercase = list(\"abcdefghijklmnopqrstuvwxyz\")\n",
    "uppercase = list(\"ABCDEFGHIJKLMNOPQRSTUVWXYZ\")\n",
    "\n",
    "total = 0\n",
    "\n",
    "for item in [[x[:len(x) // 2], x[len(x) // 2:]] for x in data]:\n",
    "    left = item[0]\n",
    "    right = item[1]\n",
    "    \n",
    "    for letter in left:\n",
    "        if letter in right:\n",
    "            for index in range(len(lowercase)):\n",
    "                if letter == lowercase[index]:\n",
    "                    total += index + 1\n",
    "                    break\n",
    "                    \n",
    "                if letter == uppercase[index]:\n",
    "                    total += index + 27\n",
    "                    break\n",
    "            break\n",
    "\n",
    "total"
   ]
  },
  {
   "attachments": {},
   "cell_type": "markdown",
   "metadata": {},
   "source": [
    "## Part 2"
   ]
  },
  {
   "cell_type": "code",
   "execution_count": 177,
   "metadata": {},
   "outputs": [
    {
     "data": {
      "text/plain": [
       "2525"
      ]
     },
     "execution_count": 177,
     "metadata": {},
     "output_type": "execute_result"
    }
   ],
   "source": [
    "with open(os.path.join(\"input.txt\")) as f:\n",
    "    data = f.read().splitlines()\n",
    "    \n",
    "lowercase = list(\"abcdefghijklmnopqrstuvwxyz\")\n",
    "uppercase = list(\"ABCDEFGHIJKLMNOPQRSTUVWXYZ\")\n",
    "total = 0\n",
    "\n",
    "data = [list(set(x)) for x in data]\n",
    "data = [data[x] + data[x+1] + data[x+2] for x in range(0, len(data), 3)]\n",
    "\n",
    "for item in data:\n",
    "    letter = Counter(item).most_common(1)[0][0]\n",
    "    \n",
    "    for index in range(len(lowercase)):\n",
    "        if letter == lowercase[index]:\n",
    "            total += index + 1\n",
    "            break\n",
    "            \n",
    "        if letter == uppercase[index]:\n",
    "            total += index + 27\n",
    "            break\n",
    "total"
   ]
  }
 ],
 "metadata": {
  "kernelspec": {
   "display_name": "venv",
   "language": "python",
   "name": "python3"
  },
  "language_info": {
   "codemirror_mode": {
    "name": "ipython",
    "version": 3
   },
   "file_extension": ".py",
   "mimetype": "text/x-python",
   "name": "python",
   "nbconvert_exporter": "python",
   "pygments_lexer": "ipython3",
   "version": "3.10.9"
  },
  "orig_nbformat": 4,
  "vscode": {
   "interpreter": {
    "hash": "382060a362c47fe82f71ef3a6add522307ee4f24e5e14907505c1dcc86c4b41e"
   }
  }
 },
 "nbformat": 4,
 "nbformat_minor": 2
}
