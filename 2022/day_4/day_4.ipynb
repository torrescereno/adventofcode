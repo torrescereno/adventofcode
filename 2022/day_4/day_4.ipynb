{
 "cells": [
  {
   "cell_type": "code",
   "execution_count": 1,
   "metadata": {},
   "outputs": [],
   "source": [
    "import os\n",
    "from collections import Counter"
   ]
  },
  {
   "attachments": {},
   "cell_type": "markdown",
   "metadata": {},
   "source": [
    "## Part 1"
   ]
  },
  {
   "cell_type": "code",
   "execution_count": 9,
   "metadata": {},
   "outputs": [
    {
     "data": {
      "text/plain": [
       "464"
      ]
     },
     "execution_count": 9,
     "metadata": {},
     "output_type": "execute_result"
    }
   ],
   "source": [
    "with open(os.path.join(\"input.txt\")) as f:\n",
    "    data = f.read().splitlines()\n",
    "\n",
    "count = 0\n",
    "list_of_ranges = [[list(range(int(y.split(\"-\")[0]), int(y.split(\"-\")[1]) + 1)) for y in x.split(\",\")] for x in data]\n",
    "\n",
    "for rango in list_of_ranges:\n",
    "    flag = False\n",
    "    list_1 = rango[0]\n",
    "    list_2 = rango[1]\n",
    "    \n",
    "    for values in list_1:\n",
    "        if values in list_2:\n",
    "            flag = True\n",
    "        else:\n",
    "            flag = False\n",
    "            break\n",
    "\n",
    "    if not flag:\n",
    "        for values in list_2:\n",
    "            if values in list_1:\n",
    "                flag = True\n",
    "            else:\n",
    "                flag = False\n",
    "                break\n",
    "            \n",
    "    if flag:\n",
    "        count += 1\n",
    "        \n",
    "count"
   ]
  },
  {
   "attachments": {},
   "cell_type": "markdown",
   "metadata": {},
   "source": [
    "## Part 2"
   ]
  },
  {
   "cell_type": "code",
   "execution_count": 10,
   "metadata": {},
   "outputs": [
    {
     "data": {
      "text/plain": [
       "770"
      ]
     },
     "execution_count": 10,
     "metadata": {},
     "output_type": "execute_result"
    }
   ],
   "source": [
    "with open(os.path.join(\"input.txt\")) as f:\n",
    "    data = f.read().splitlines()\n",
    "\n",
    "count = 0\n",
    "list_of_ranges = [[list(range(int(y.split(\"-\")[0]), int(y.split(\"-\")[1]) + 1)) for y in x.split(\",\")] for x in data]\n",
    "\n",
    "for rango in list_of_ranges:\n",
    "    flag = False\n",
    "    list_1 = rango[0]\n",
    "    list_2 = rango[1]\n",
    "    \n",
    "    for values in list_1:\n",
    "        if values in list_2:\n",
    "            flag = True\n",
    "\n",
    "    for values in list_2:\n",
    "        if values in list_1:\n",
    "            flag = True\n",
    "            \n",
    "    if flag:\n",
    "        count += 1\n",
    "        \n",
    "count"
   ]
  }
 ],
 "metadata": {
  "kernelspec": {
   "display_name": "venv",
   "language": "python",
   "name": "python3"
  },
  "language_info": {
   "codemirror_mode": {
    "name": "ipython",
    "version": 3
   },
   "file_extension": ".py",
   "mimetype": "text/x-python",
   "name": "python",
   "nbconvert_exporter": "python",
   "pygments_lexer": "ipython3",
   "version": "3.10.9"
  },
  "orig_nbformat": 4,
  "vscode": {
   "interpreter": {
    "hash": "382060a362c47fe82f71ef3a6add522307ee4f24e5e14907505c1dcc86c4b41e"
   }
  }
 },
 "nbformat": 4,
 "nbformat_minor": 2
}
