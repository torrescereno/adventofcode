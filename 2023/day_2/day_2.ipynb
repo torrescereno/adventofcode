{
 "cells": [
  {
   "cell_type": "code",
   "execution_count": 1,
   "id": "initial_id",
   "metadata": {
    "collapsed": true,
    "ExecuteTime": {
     "end_time": "2023-12-03T02:34:51.082443700Z",
     "start_time": "2023-12-03T02:34:51.076935200Z"
    }
   },
   "outputs": [],
   "source": [
    "import os\n",
    "import re"
   ]
  },
  {
   "cell_type": "code",
   "execution_count": 2,
   "outputs": [],
   "source": [
    "with open(os.path.join(\"input.txt\")) as f:\n",
    "    data = f.read()"
   ],
   "metadata": {
    "collapsed": false,
    "ExecuteTime": {
     "end_time": "2023-12-03T02:34:51.436078900Z",
     "start_time": "2023-12-03T02:34:51.427080100Z"
    }
   },
   "id": "f6a28079afdac429"
  },
  {
   "cell_type": "markdown",
   "source": [
    "Parte 1"
   ],
   "metadata": {
    "collapsed": false
   },
   "id": "9403a7925608fa59"
  },
  {
   "cell_type": "code",
   "execution_count": 3,
   "outputs": [
    {
     "data": {
      "text/plain": "3059"
     },
     "execution_count": 3,
     "metadata": {},
     "output_type": "execute_result"
    }
   ],
   "source": [
    "red, green, blue = 12, 13, 14\n",
    "color_limits = {'red': red, 'green': green, 'blue': blue}\n",
    "total = 0\n",
    "\n",
    "for row in data.split(\"\\n\"):\n",
    "    game_id_str, cubes = re.split(r':\\s*', row.strip())\n",
    "    game_id = int(''.join(re.findall(r'\\d', game_id_str)))\n",
    "    cube_info = [item.split() for item in cubes.replace(';', ',').split(',')]\n",
    "\n",
    "    if all(int(cube) <= color_limits[color] for cube, color in cube_info):\n",
    "        total += game_id\n",
    "\n",
    "total"
   ],
   "metadata": {
    "collapsed": false,
    "ExecuteTime": {
     "end_time": "2023-12-03T02:34:52.018934200Z",
     "start_time": "2023-12-03T02:34:51.967100600Z"
    }
   },
   "id": "e5855fe1e8b84560"
  },
  {
   "cell_type": "markdown",
   "source": [
    "Parte 2"
   ],
   "metadata": {
    "collapsed": false
   },
   "id": "14fec9e62c7d528a"
  },
  {
   "cell_type": "code",
   "execution_count": 4,
   "outputs": [
    {
     "data": {
      "text/plain": "65371"
     },
     "execution_count": 4,
     "metadata": {},
     "output_type": "execute_result"
    }
   ],
   "source": [
    "total = 0\n",
    "\n",
    "for row in data.split(\"\\n\"):\n",
    "    cubes_info = row.strip().split(\":\")[1].replace(\";\", \",\").split(\",\")\n",
    "    cube_counts = {'red': 0, 'green': 0, 'blue': 0}\n",
    "\n",
    "    for item in cubes_info:\n",
    "        cube, color = item.strip().split()\n",
    "        cube_counts[color] = max(cube_counts[color], int(cube))\n",
    "\n",
    "    total += cube_counts['red'] * cube_counts['green'] * cube_counts['blue']\n",
    "\n",
    "total"
   ],
   "metadata": {
    "collapsed": false,
    "ExecuteTime": {
     "end_time": "2023-12-03T02:34:52.719487100Z",
     "start_time": "2023-12-03T02:34:52.667941300Z"
    }
   },
   "id": "d81ead9a723522"
  },
  {
   "cell_type": "code",
   "execution_count": null,
   "outputs": [],
   "source": [],
   "metadata": {
    "collapsed": false
   },
   "id": "f4600eb968e6ee8e"
  }
 ],
 "metadata": {
  "kernelspec": {
   "display_name": "Python 3",
   "language": "python",
   "name": "python3"
  },
  "language_info": {
   "codemirror_mode": {
    "name": "ipython",
    "version": 2
   },
   "file_extension": ".py",
   "mimetype": "text/x-python",
   "name": "python",
   "nbconvert_exporter": "python",
   "pygments_lexer": "ipython2",
   "version": "2.7.6"
  }
 },
 "nbformat": 4,
 "nbformat_minor": 5
}
