{
 "cells": [
  {
   "cell_type": "code",
   "execution_count": 1,
   "outputs": [
    {
     "data": {
      "text/plain": "19099"
     },
     "execution_count": 1,
     "metadata": {},
     "output_type": "execute_result"
    }
   ],
   "source": [
    "from collections import defaultdict\n",
    "\n",
    "with open(\"input.txt\", \"r\") as f:\n",
    "    data = f.read().splitlines()\n",
    "    \n",
    "instructions = data[0]\n",
    "mapp = data[2:]\n",
    "\n",
    "map_dict = defaultdict(list)\n",
    "\n",
    "for map_entry in mapp:\n",
    "    key, values = map_entry.split(\"=\", 1)\n",
    "    key = key.strip()\n",
    "    values = [value.strip() for value in values.strip(\" ()\\n\").split(\",\")]\n",
    "    \n",
    "    map_dict[key] = values\n",
    "    \n",
    "current_position = \"AAA\"\n",
    "steps = 0\n",
    "\n",
    "while current_position != \"ZZZ\":\n",
    "    for instruction in instructions:\n",
    "        direction = 0 if instruction == \"L\" else 1\n",
    "        current_position = map_dict[current_position][direction]\n",
    "        steps += 1\n",
    "\n",
    "        if current_position == \"ZZZ\":\n",
    "            break\n",
    "\n",
    "steps # 19099\n"
   ],
   "metadata": {
    "collapsed": false,
    "ExecuteTime": {
     "end_time": "2023-12-09T14:28:36.647642Z",
     "start_time": "2023-12-09T14:28:36.628475Z"
    }
   },
   "id": "8ab1b910758d561f"
  },
  {
   "cell_type": "markdown",
   "source": [
    "Parte 2"
   ],
   "metadata": {
    "collapsed": false
   },
   "id": "bbbebcd1a39da1c2"
  },
  {
   "cell_type": "code",
   "execution_count": 3,
   "outputs": [
    {
     "data": {
      "text/plain": "17099847107071"
     },
     "execution_count": 3,
     "metadata": {},
     "output_type": "execute_result"
    }
   ],
   "source": [
    "from math import gcd\n",
    "\n",
    "def calculate_lcm(numbers):\n",
    "    result = 1\n",
    "    for number in numbers:\n",
    "        result = (number * result) // gcd(number, result)\n",
    "    return result\n",
    "\n",
    "def solve(steps, directions):\n",
    "    positions = [state for state in directions['L'] if state.endswith('A')]\n",
    "    times = {}\n",
    "    time = 0\n",
    "    while True:\n",
    "        new_positions = []\n",
    "        for i, position in enumerate(positions):\n",
    "            position = directions[steps[time % len(steps)]][position]\n",
    "            if position.endswith('Z'):\n",
    "                times[i] = time + 1\n",
    "                if len(times) == len(positions):\n",
    "                    return calculate_lcm(times.values())\n",
    "            new_positions.append(position)\n",
    "        positions = new_positions\n",
    "        time += 1\n",
    "\n",
    "\n",
    "with open(\"input.txt\") as file:\n",
    "    content = file.read().strip()\n",
    "    \n",
    "steps, rules =  content.split('\\n\\n')\n",
    "\n",
    "directions = {'L': {}, 'R': {}}\n",
    "for line in rules.split('\\n'):\n",
    "    state, lr = line.split('=')\n",
    "    state = state.strip()\n",
    "    left, right = lr.split(',')\n",
    "    left = left.strip()[1:].strip()\n",
    "    right = right[:-1].strip()\n",
    "    directions['L'][state] = left\n",
    "    directions['R'][state] = right\n",
    "\n",
    "solve(steps, directions) # 17099847107071\n"
   ],
   "metadata": {
    "collapsed": false,
    "ExecuteTime": {
     "end_time": "2023-12-09T14:28:47.406765Z",
     "start_time": "2023-12-09T14:28:47.375589Z"
    }
   },
   "id": "cec3dffa8e9ec723"
  },
  {
   "cell_type": "code",
   "execution_count": null,
   "outputs": [],
   "source": [],
   "metadata": {
    "collapsed": false
   },
   "id": "25303328ab328ccc"
  }
 ],
 "metadata": {
  "kernelspec": {
   "display_name": "Python 3",
   "language": "python",
   "name": "python3"
  },
  "language_info": {
   "codemirror_mode": {
    "name": "ipython",
    "version": 2
   },
   "file_extension": ".py",
   "mimetype": "text/x-python",
   "name": "python",
   "nbconvert_exporter": "python",
   "pygments_lexer": "ipython2",
   "version": "2.7.6"
  }
 },
 "nbformat": 4,
 "nbformat_minor": 5
}
