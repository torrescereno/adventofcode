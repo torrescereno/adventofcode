{
 "cells": [
  {
   "cell_type": "markdown",
   "source": [
    "Parte 1"
   ],
   "metadata": {
    "collapsed": false
   },
   "id": "176054fa1ba26c98"
  },
  {
   "cell_type": "code",
   "execution_count": 1,
   "outputs": [
    {
     "data": {
      "text/plain": "449550"
     },
     "execution_count": 1,
     "metadata": {},
     "output_type": "execute_result"
    }
   ],
   "source": [
    "with open(\"input_1.txt\", \"r\") as f:\n",
    "    lines = f.read().splitlines()\n",
    "    times = list(map(int, lines[0].split()[1:]))\n",
    "    distances = list(map(int, lines[1].split()[1:]))\n",
    "\n",
    "total = 1\n",
    "\n",
    "for time, distance in zip(times, distances):\n",
    "    total *= sum(1 for hold in range(time) if abs(hold * (hold - time)) > distance)\n",
    "\n",
    "total\n"
   ],
   "metadata": {
    "collapsed": false,
    "ExecuteTime": {
     "end_time": "2023-12-08T01:37:37.819072700Z",
     "start_time": "2023-12-08T01:37:37.765063300Z"
    }
   },
   "id": "f12a152c94a13820"
  },
  {
   "cell_type": "markdown",
   "source": [
    "Parte 2"
   ],
   "metadata": {
    "collapsed": false
   },
   "id": "fef04cd3132b6424"
  },
  {
   "cell_type": "code",
   "execution_count": 2,
   "outputs": [
    {
     "data": {
      "text/plain": "28360140"
     },
     "execution_count": 2,
     "metadata": {},
     "output_type": "execute_result"
    }
   ],
   "source": [
    "with open(\"input_2.txt\", \"r\") as f:\n",
    "    lines = f.read().splitlines()\n",
    "    times = list(map(int, lines[0].split()[1:]))\n",
    "    distances = list(map(int, lines[1].split()[1:]))\n",
    "\n",
    "total = sum(\n",
    "    1\n",
    "    for time, distance in zip(times, distances)\n",
    "    for hold in range(time)\n",
    "    if abs(hold * (hold - time)) > distance\n",
    ")\n",
    "\n",
    "total"
   ],
   "metadata": {
    "collapsed": false,
    "ExecuteTime": {
     "end_time": "2023-12-08T01:37:43.747685100Z",
     "start_time": "2023-12-08T01:37:38.980929700Z"
    }
   },
   "id": "67c723d8883d5dc0"
  }
 ],
 "metadata": {
  "kernelspec": {
   "display_name": "Python 3",
   "language": "python",
   "name": "python3"
  },
  "language_info": {
   "codemirror_mode": {
    "name": "ipython",
    "version": 2
   },
   "file_extension": ".py",
   "mimetype": "text/x-python",
   "name": "python",
   "nbconvert_exporter": "python",
   "pygments_lexer": "ipython2",
   "version": "2.7.6"
  }
 },
 "nbformat": 4,
 "nbformat_minor": 5
}
