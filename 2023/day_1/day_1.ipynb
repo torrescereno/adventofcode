{
 "cells": [
  {
   "cell_type": "code",
   "execution_count": 1,
   "id": "initial_id",
   "metadata": {
    "collapsed": true,
    "ExecuteTime": {
     "end_time": "2023-12-03T01:23:45.835187300Z",
     "start_time": "2023-12-03T01:23:45.831187500Z"
    }
   },
   "outputs": [],
   "source": [
    "import os\n",
    "import re"
   ]
  },
  {
   "cell_type": "markdown",
   "source": [
    "Parte 1"
   ],
   "metadata": {
    "collapsed": false
   },
   "id": "bd23ac9207abe33"
  },
  {
   "cell_type": "code",
   "execution_count": 2,
   "outputs": [
    {
     "data": {
      "text/plain": "55488"
     },
     "execution_count": 2,
     "metadata": {},
     "output_type": "execute_result"
    }
   ],
   "source": [
    "with open(os.path.join(\"input.txt\")) as f:\n",
    "    data = f.read()\n",
    "\n",
    "total = 0\n",
    "total += sum(int(f\"{int(re.findall('[0-9]', row)[0])}{int(re.findall('[0-9]', row)[-1])}\") for row in data.split(\"\\n\"))\n",
    "total"
   ],
   "metadata": {
    "collapsed": false,
    "ExecuteTime": {
     "end_time": "2023-12-03T01:23:46.263379Z",
     "start_time": "2023-12-03T01:23:46.213378900Z"
    }
   },
   "id": "b82b3e93a4ece048"
  },
  {
   "cell_type": "markdown",
   "source": [
    "Parte 2"
   ],
   "metadata": {
    "collapsed": false
   },
   "id": "59b131887aca1f0e"
  },
  {
   "cell_type": "code",
   "execution_count": 3,
   "outputs": [
    {
     "data": {
      "text/plain": "55614"
     },
     "execution_count": 3,
     "metadata": {},
     "output_type": "execute_result"
    }
   ],
   "source": [
    "words = (\n",
    "    \"one\",\n",
    "    \"two\",\n",
    "    \"three\",\n",
    "    \"four\",\n",
    "    \"five\",\n",
    "    \"six\",\n",
    "    \"seven\",\n",
    "    \"eight\",\n",
    "    \"nine\",\n",
    ")\n",
    "\n",
    "def split_text_by_words(text, word):\n",
    "    word_joined = \"|\".join(word)\n",
    "    subpattern = rf\"\\d|{word_joined}\"\n",
    "    regex_pattern = rf\"(?:.*?({subpattern}).*({subpattern}).*?$)|(?:.*?({subpattern}))\"\n",
    "    segments = re.split(regex_pattern, text)\n",
    "    return [seg for seg in segments if seg]\n",
    "\n",
    "def process_line(l, w):\n",
    "    word_to_digit = {x: str(i) for i, x in enumerate(w,1)}\n",
    "    elements = split_text_by_words(l, word_to_digit)\n",
    "    numbers = [num for num in (word_to_digit.get(element, element) for element in elements) if num.isdigit()]\n",
    "    return int(numbers[0] + numbers[-1]) if numbers else 0\n",
    "\n",
    "\n",
    "total = 0\n",
    "with open(os.path.join(\"input.txt\")) as file:\n",
    "    for line in file:\n",
    "       total += process_line(line.strip(), words)\n",
    "\n",
    "total"
   ],
   "metadata": {
    "collapsed": false,
    "ExecuteTime": {
     "end_time": "2023-12-03T01:23:46.878279900Z",
     "start_time": "2023-12-03T01:23:46.865271Z"
    }
   },
   "id": "17ea7cab72e7340c"
  },
  {
   "cell_type": "code",
   "execution_count": 3,
   "outputs": [],
   "source": [],
   "metadata": {
    "collapsed": false,
    "ExecuteTime": {
     "end_time": "2023-12-03T01:20:27.533922900Z",
     "start_time": "2023-12-03T01:20:27.498413600Z"
    }
   },
   "id": "6f4c94d7a2293599"
  }
 ],
 "metadata": {
  "kernelspec": {
   "display_name": "Python 3",
   "language": "python",
   "name": "python3"
  },
  "language_info": {
   "codemirror_mode": {
    "name": "ipython",
    "version": 2
   },
   "file_extension": ".py",
   "mimetype": "text/x-python",
   "name": "python",
   "nbconvert_exporter": "python",
   "pygments_lexer": "ipython2",
   "version": "2.7.6"
  }
 },
 "nbformat": 4,
 "nbformat_minor": 5
}
