{
 "cells": [
  {
   "cell_type": "code",
   "execution_count": 68,
   "id": "initial_id",
   "metadata": {
    "collapsed": true,
    "ExecuteTime": {
     "end_time": "2023-12-03T22:09:10.914625Z",
     "start_time": "2023-12-03T22:09:10.911791Z"
    }
   },
   "outputs": [],
   "source": [
    "import os\n",
    "from collections import defaultdict\n",
    "from functools import reduce"
   ]
  },
  {
   "cell_type": "markdown",
   "source": [
    "Parte 1"
   ],
   "metadata": {
    "collapsed": false
   },
   "id": "23183571c5eddbed"
  },
  {
   "cell_type": "code",
   "execution_count": 70,
   "outputs": [
    {
     "data": {
      "text/plain": "521601"
     },
     "execution_count": 70,
     "metadata": {},
     "output_type": "execute_result"
    }
   ],
   "source": [
    "with open(os.path.join(\"input.txt\")) as f:\n",
    "    data = f.read().splitlines()\n",
    "\n",
    "def get_adjacent(x, y, cols, rows):\n",
    "    return [(x + dx, y + dy) for dx in range(-1, 2) for dy in range(-1, 2)\n",
    "            if (dx != 0 or dy != 0) and 0 <= x + dx < cols and 0 <= y + dy < rows]\n",
    "\n",
    "\n",
    "rows, cols = len(data), len(data[0])\n",
    "total = 0\n",
    "\n",
    "for y in range(rows):\n",
    "    x = 0\n",
    "    while x < cols:\n",
    "        if data[y][x].isdigit():\n",
    "            num, checks = data[y][x], get_adjacent(x, y, cols, rows)\n",
    "            \n",
    "            for i in range(x + 1, cols):\n",
    "                if not data[y][i].isdigit():\n",
    "                    break\n",
    "                num += data[y][i]\n",
    "                checks.extend(get_adjacent(i, y, cols, rows))\n",
    "                x += 1\n",
    "\n",
    "            if any(data[ny][nx] != \".\" and not data[ny][nx].isdigit() for nx, ny in checks):\n",
    "                total += int(num)\n",
    "        x += 1\n",
    "\n",
    "total\n"
   ],
   "metadata": {
    "collapsed": false,
    "ExecuteTime": {
     "end_time": "2023-12-03T22:10:02.380711Z",
     "start_time": "2023-12-03T22:10:02.359400Z"
    }
   },
   "id": "5b2102a33a809aec"
  },
  {
   "cell_type": "markdown",
   "source": [
    "Parte 2"
   ],
   "metadata": {
    "collapsed": false
   },
   "id": "abf14b51dd8239f4"
  },
  {
   "cell_type": "code",
   "execution_count": 71,
   "outputs": [
    {
     "data": {
      "text/plain": "80694070"
     },
     "execution_count": 71,
     "metadata": {},
     "output_type": "execute_result"
    }
   ],
   "source": [
    "with open(os.path.join(\"input.txt\")) as f:\n",
    "    data = f.read().splitlines()\n",
    "\n",
    "def get_adjacent(x, y, cols, rows):\n",
    "    return [(x + dx, y + dy) for dx in range(-1, 2) for dy in range(-1, 2)\n",
    "            if (dx != 0 or dy != 0) and 0 <= x + dx < cols and 0 <= y + dy < rows]\n",
    "\n",
    "rows, cols = len(data), len(data[0])\n",
    "total = 0\n",
    "\n",
    "d = defaultdict(list)\n",
    "\n",
    "for y in range(rows):\n",
    "    x = 0\n",
    "    while x < cols:\n",
    "        if data[y][x].isdigit():\n",
    "            num, checks = data[y][x], get_adjacent(x, y, cols, rows)\n",
    "\n",
    "            for i in range(x + 1, cols):\n",
    "                if not data[y][i].isdigit():\n",
    "                    break\n",
    "                num += data[y][i]\n",
    "                checks.extend(get_adjacent(i, y, cols, rows))\n",
    "                x += 1\n",
    "\n",
    "            for nx, ny in checks:\n",
    "                if data[ny][nx] == \"*\":\n",
    "                    d[(nx, ny)].append(int(num))\n",
    "                    break\n",
    "        x += 1\n",
    "\n",
    "for nums in d.values():\n",
    "    if len(nums) > 1:\n",
    "        total += reduce(lambda a, b: a * b, nums)\n",
    "\n",
    "total"
   ],
   "metadata": {
    "collapsed": false,
    "ExecuteTime": {
     "end_time": "2023-12-03T22:10:03.275625Z",
     "start_time": "2023-12-03T22:10:03.255113Z"
    }
   },
   "id": "fbf671bc76f48dd7"
  },
  {
   "cell_type": "code",
   "execution_count": null,
   "outputs": [],
   "source": [],
   "metadata": {
    "collapsed": false
   },
   "id": "e3109d280a4312fc"
  }
 ],
 "metadata": {
  "kernelspec": {
   "display_name": "Python 3",
   "language": "python",
   "name": "python3"
  },
  "language_info": {
   "codemirror_mode": {
    "name": "ipython",
    "version": 2
   },
   "file_extension": ".py",
   "mimetype": "text/x-python",
   "name": "python",
   "nbconvert_exporter": "python",
   "pygments_lexer": "ipython2",
   "version": "2.7.6"
  }
 },
 "nbformat": 4,
 "nbformat_minor": 5
}
