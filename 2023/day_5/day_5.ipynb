{
 "cells": [
  {
   "cell_type": "code",
   "execution_count": 1,
   "outputs": [],
   "source": [
    "import os\n",
    "import sys\n",
    "\n",
    "from typing import List, Tuple"
   ],
   "metadata": {
    "collapsed": false,
    "ExecuteTime": {
     "end_time": "2023-12-08T00:23:03.503743200Z",
     "start_time": "2023-12-08T00:23:03.485709800Z"
    }
   },
   "id": "8b45326f2c08403e"
  },
  {
   "cell_type": "code",
   "execution_count": 2,
   "outputs": [
    {
     "name": "stdout",
     "output_type": "stream",
     "text": [
      "650599855\n"
     ]
    }
   ],
   "source": [
    "def parse_input (lines: List[str]) -> Tuple[List[int], List[int]]:\n",
    "    seeds = [\n",
    "        int(number) for number in lines[0].strip().split(\": \")[-1].split()\n",
    "    ]\n",
    "    mappings = []\n",
    "    for line in lines[1:]:\n",
    "        if not line.strip():\n",
    "            mappings.append([])\n",
    "        elif line[0].isdigit():\n",
    "            mappings[-1].append([int(number) for number in line.strip().split()])\n",
    "\n",
    "    return seeds, mappings\n",
    "\n",
    "def find_lowest_location(seeds: List[int], mappings: List[int]) -> int:\n",
    "    lowest = sys.maxsize\n",
    "\n",
    "    for seed in seeds:\n",
    "        for mapping in mappings:\n",
    "            for destination_start, source_start, range_length in mapping:\n",
    "                source_end = source_start + range_length\n",
    "                if source_start <= seed <= source_end:\n",
    "                    seed = (seed - source_start) + destination_start\n",
    "                    break\n",
    "                \n",
    "        lowest = min(lowest, seed)\n",
    "\n",
    "    return lowest\n",
    "    \n",
    "with open(\"input.txt\", encoding=\"utf-8\") as f:\n",
    "    input_lines = [line.strip() for line in f.readlines()]\n",
    "    seeds, mappings = parse_input(input_lines)\n",
    "    \n",
    "    print(find_lowest_location(seeds, mappings))"
   ],
   "metadata": {
    "collapsed": false,
    "ExecuteTime": {
     "end_time": "2023-12-08T00:23:03.514744100Z",
     "start_time": "2023-12-08T00:23:03.492226500Z"
    }
   },
   "id": "469be333871d86a6"
  },
  {
   "cell_type": "code",
   "execution_count": null,
   "outputs": [],
   "source": [],
   "metadata": {
    "collapsed": false
   },
   "id": "4d63f0ca05258b16"
  }
 ],
 "metadata": {
  "kernelspec": {
   "display_name": "Python 3",
   "language": "python",
   "name": "python3"
  },
  "language_info": {
   "codemirror_mode": {
    "name": "ipython",
    "version": 2
   },
   "file_extension": ".py",
   "mimetype": "text/x-python",
   "name": "python",
   "nbconvert_exporter": "python",
   "pygments_lexer": "ipython2",
   "version": "2.7.6"
  }
 },
 "nbformat": 4,
 "nbformat_minor": 5
}
