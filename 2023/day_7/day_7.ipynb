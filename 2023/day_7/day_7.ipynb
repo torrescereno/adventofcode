{
 "cells": [
  {
   "cell_type": "code",
   "execution_count": 1,
   "outputs": [],
   "source": [
    "from collections import Counter, deque"
   ],
   "metadata": {
    "collapsed": false,
    "ExecuteTime": {
     "end_time": "2023-12-09T05:41:42.188397Z",
     "start_time": "2023-12-09T05:41:42.183218Z"
    }
   },
   "id": "7010022c3cef0b70"
  },
  {
   "cell_type": "markdown",
   "source": [
    "Parte 1"
   ],
   "metadata": {
    "collapsed": false
   },
   "id": "8c57458a3436a38b"
  },
  {
   "cell_type": "code",
   "execution_count": 2,
   "outputs": [
    {
     "data": {
      "text/plain": "250232501"
     },
     "execution_count": 2,
     "metadata": {},
     "output_type": "execute_result"
    }
   ],
   "source": [
    "with open(\"input.txt\", \"r\") as f:\n",
    "    games = f.read().splitlines()\n",
    "\n",
    "hand_ranks = [\"High card\", \"One pair\", \"Two pair\", \"Three of a kind\", \"Full house\", \"Four of a kind\", \"Five of a kind\"]\n",
    "card_order = ['A', 'K', 'Q', 'J', 'T', '9', '8', '7', '6', '5', '4', '3', '2']\n",
    "\n",
    "def select_hand_type(cards):\n",
    "    count_values = Counter(cards).values()\n",
    "    unique_counts = len(count_values)\n",
    "\n",
    "    if unique_counts == 1:\n",
    "        return \"Five of a kind\"\n",
    "    elif unique_counts == 2:\n",
    "        return \"Full house\" if 3 in count_values else \"Four of a kind\"\n",
    "    elif unique_counts == 3:\n",
    "        return \"Three of a kind\" if 3 in count_values else \"Two pair\"\n",
    "    elif unique_counts == 4:\n",
    "        return \"One pair\"\n",
    "    else:\n",
    "        return \"High card\"\n",
    "\n",
    "def compare_hand(hand):\n",
    "    return [card_order.index(card) for card in list(hand[0])]\n",
    "\n",
    "games_queue = deque()\n",
    "rank_multiplier = 1\n",
    "total_sum = 0\n",
    "\n",
    "for game in games:\n",
    "    card, bet = game.split(\" \")\n",
    "    hand_type = select_hand_type(cards=card)    \n",
    "    games_queue.append([card, bet, hand_type])\n",
    "\n",
    "for rank in hand_ranks:\n",
    "    sorted_hands = sorted((item for item in games_queue if item[2] == rank), key=compare_hand, reverse=True)\n",
    "    \n",
    "    for idx, game in enumerate(sorted_hands):\n",
    "        total_sum += int(game[1]) * rank_multiplier\n",
    "        rank_multiplier += 1\n",
    "        \n",
    "total_sum # 250232501"
   ],
   "metadata": {
    "collapsed": false,
    "ExecuteTime": {
     "end_time": "2023-12-09T05:41:42.514017Z",
     "start_time": "2023-12-09T05:41:42.497875Z"
    }
   },
   "id": "7f46322a105a8d11"
  },
  {
   "cell_type": "markdown",
   "source": [
    "Parte 2"
   ],
   "metadata": {
    "collapsed": false
   },
   "id": "d9101422251ffd78"
  },
  {
   "cell_type": "code",
   "execution_count": 3,
   "outputs": [
    {
     "data": {
      "text/plain": "249138943"
     },
     "execution_count": 3,
     "metadata": {},
     "output_type": "execute_result"
    }
   ],
   "source": [
    "with open(\"input.txt\", \"r\") as f:\n",
    "    games = f.read().splitlines()\n",
    "\n",
    "hand_ranks = [\"High card\", \"One pair\", \"Two pair\", \"Three of a kind\", \"Full house\", \"Four of a kind\", \"Five of a kind\"]\n",
    "card_order = ['A', 'K', 'Q', 'T', '9', '8', '7', '6', '5', '4', '3', '2', 'J']\n",
    "\n",
    "def select_hand_type_with_joker(cards):\n",
    "    \n",
    "    if \"JJJJJ\" in cards:\n",
    "        cards = \"AAAAA\"\n",
    "    \n",
    "    d = Counter(cards)\n",
    "    \n",
    "    if \"J\" in d.keys():\n",
    "        v = d[\"J\"]\n",
    "        del d[\"J\"]\n",
    "        \n",
    "        most = d.most_common()[0][0]\n",
    "        d[most] = d[most] + v\n",
    "    \n",
    "    count_values = d.values()\n",
    "    unique_counts = len(count_values)\n",
    "    \n",
    "    if unique_counts == 1:\n",
    "        return \"Five of a kind\"\n",
    "    elif unique_counts == 2:\n",
    "        return \"Full house\" if 3 in count_values else \"Four of a kind\"\n",
    "    elif unique_counts == 3:\n",
    "        return \"Three of a kind\" if 3 in count_values else \"Two pair\"\n",
    "    elif unique_counts == 4:\n",
    "        return \"One pair\"\n",
    "    else:\n",
    "        return \"High card\"\n",
    "\n",
    "def compare_hand(hand):\n",
    "    return [card_order.index(card) for card in list(hand[0])]\n",
    "\n",
    "games_queue = deque()\n",
    "rank_multiplier = 1\n",
    "total_sum = 0\n",
    "\n",
    "for game in games:\n",
    "    card, bet = game.split(\" \")\n",
    "    hand_type = select_hand_type_with_joker(cards=card)    \n",
    "    games_queue.append([card, bet, hand_type])\n",
    "\n",
    "for rank in hand_ranks:\n",
    "    sorted_hands = sorted((item for item in games_queue if item[2] == rank), key=compare_hand, reverse=True)\n",
    "    \n",
    "    for idx, game in enumerate(sorted_hands):\n",
    "        total_sum += int(game[1]) * rank_multiplier\n",
    "        rank_multiplier += 1\n",
    "\n",
    "total_sum # 249138943"
   ],
   "metadata": {
    "collapsed": false,
    "ExecuteTime": {
     "end_time": "2023-12-09T05:41:42.976013Z",
     "start_time": "2023-12-09T05:41:42.965459Z"
    }
   },
   "id": "3f7b9e014d5ec419"
  },
  {
   "cell_type": "code",
   "execution_count": null,
   "outputs": [],
   "source": [],
   "metadata": {
    "collapsed": false
   },
   "id": "5b78af28362f9fae"
  }
 ],
 "metadata": {
  "kernelspec": {
   "display_name": "Python 3",
   "language": "python",
   "name": "python3"
  },
  "language_info": {
   "codemirror_mode": {
    "name": "ipython",
    "version": 2
   },
   "file_extension": ".py",
   "mimetype": "text/x-python",
   "name": "python",
   "nbconvert_exporter": "python",
   "pygments_lexer": "ipython2",
   "version": "2.7.6"
  }
 },
 "nbformat": 4,
 "nbformat_minor": 5
}
