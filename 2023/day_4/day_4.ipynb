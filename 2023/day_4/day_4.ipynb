{
 "cells": [
  {
   "cell_type": "code",
   "execution_count": 1,
   "id": "initial_id",
   "metadata": {
    "collapsed": true,
    "ExecuteTime": {
     "end_time": "2023-12-05T01:24:17.393008400Z",
     "start_time": "2023-12-05T01:24:17.384007700Z"
    }
   },
   "outputs": [],
   "source": [
    "import os\n",
    "import re\n",
    "from collections import defaultdict"
   ]
  },
  {
   "cell_type": "code",
   "execution_count": 47,
   "outputs": [],
   "source": [
    "with open(os.path.join(\"input.txt\")) as f:\n",
    "    data = f.read().splitlines()"
   ],
   "metadata": {
    "collapsed": false,
    "ExecuteTime": {
     "end_time": "2023-12-05T01:47:13.853469500Z",
     "start_time": "2023-12-05T01:47:13.835469400Z"
    }
   },
   "id": "78e4e1a042aace72"
  },
  {
   "cell_type": "markdown",
   "source": [
    "Parte 1"
   ],
   "metadata": {
    "collapsed": false
   },
   "id": "672b2ea251c37d99"
  },
  {
   "cell_type": "code",
   "execution_count": 48,
   "outputs": [
    {
     "data": {
      "text/plain": "27059"
     },
     "execution_count": 48,
     "metadata": {},
     "output_type": "execute_result"
    }
   ],
   "source": [
    "regex = r\"Card\\s+\\d+:\\s+([\\d\\s]+)\\|\\s+([\\d\\s]+)\"\n",
    "total = 0\n",
    "\n",
    "for row in data:\n",
    "    match = re.search(regex, row)\n",
    "    winners = [int(num) for num in match.group(1).split()]\n",
    "    attempt = [int(num) for num in match.group(2).split()]\n",
    "    \n",
    "    count_winners = sum(a in winners for a in attempt)\n",
    "    \n",
    "    if count_winners > 0:\n",
    "        total += 2**(count_winners - 1)\n",
    "\n",
    "total"
   ],
   "metadata": {
    "collapsed": false,
    "ExecuteTime": {
     "end_time": "2023-12-05T01:47:14.519505900Z",
     "start_time": "2023-12-05T01:47:14.476994300Z"
    }
   },
   "id": "365b765f2506c4f2"
  },
  {
   "cell_type": "markdown",
   "source": [
    "Parte 2"
   ],
   "metadata": {
    "collapsed": false
   },
   "id": "126814345cb35fb8"
  },
  {
   "cell_type": "code",
   "execution_count": 50,
   "outputs": [
    {
     "data": {
      "text/plain": "5744979"
     },
     "execution_count": 50,
     "metadata": {},
     "output_type": "execute_result"
    }
   ],
   "source": [
    "regex = r\"Card\\s+\\d+:\\s+([\\d\\s]+)\\|\\s+([\\d\\s]+)\"\n",
    "total = 0\n",
    "dup = []\n",
    "\n",
    "for idx, row in enumerate(data):\n",
    "    match = re.search(regex, row)\n",
    "    winners = [int(num) for num in match.group(1).split()]\n",
    "    attempt = [int(num) for num in match.group(2).split()]\n",
    "    count_winners = sum(a in winners for a in attempt)\n",
    "    dup.append([1, count_winners])\n",
    "\n",
    "for i, (count, range_length) in enumerate(dup):\n",
    "    total += count\n",
    "    for j in range(1, range_length + 1):\n",
    "        dup[i + j][0] += count\n",
    "\n",
    "total"
   ],
   "metadata": {
    "collapsed": false,
    "ExecuteTime": {
     "end_time": "2023-12-05T01:48:00.369439200Z",
     "start_time": "2023-12-05T01:48:00.314437300Z"
    }
   },
   "id": "1c4de37ea811339d"
  },
  {
   "cell_type": "code",
   "execution_count": null,
   "outputs": [],
   "source": [],
   "metadata": {
    "collapsed": false
   },
   "id": "3ac80de27a882aae"
  }
 ],
 "metadata": {
  "kernelspec": {
   "display_name": "Python 3",
   "language": "python",
   "name": "python3"
  },
  "language_info": {
   "codemirror_mode": {
    "name": "ipython",
    "version": 2
   },
   "file_extension": ".py",
   "mimetype": "text/x-python",
   "name": "python",
   "nbconvert_exporter": "python",
   "pygments_lexer": "ipython2",
   "version": "2.7.6"
  }
 },
 "nbformat": 4,
 "nbformat_minor": 5
}
