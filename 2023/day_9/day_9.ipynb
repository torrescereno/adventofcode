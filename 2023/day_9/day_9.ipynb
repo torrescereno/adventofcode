{
 "cells": [
  {
   "cell_type": "markdown",
   "source": [
    "Parte 1"
   ],
   "metadata": {
    "collapsed": false
   },
   "id": "769cc40355f68fa4"
  },
  {
   "cell_type": "code",
   "execution_count": 1,
   "outputs": [
    {
     "data": {
      "text/plain": "2043677056"
     },
     "execution_count": 1,
     "metadata": {},
     "output_type": "execute_result"
    }
   ],
   "source": [
    "def read_file(file_path):\n",
    "    with open(file_path, \"r\") as f:\n",
    "        return [[int(num) for num in line.split()] for line in f.read().splitlines()]\n",
    "\n",
    "def build_difference_pyramid(series):\n",
    "    pyramid = [series]\n",
    "    while len(pyramid[-1]) > 1:\n",
    "        pyramid.append([pyramid[-1][i + 1] - pyramid[-1][i] for i in range(len(pyramid[-1]) - 1)])\n",
    "    return pyramid\n",
    "\n",
    "def predict_next_numbers(pyramid):\n",
    "    for i in range(len(pyramid) - 1, 0, -1):\n",
    "        next_value = pyramid[i-1][-1] + pyramid[i][-1]\n",
    "        pyramid[i].append(pyramid[i][-1])\n",
    "        pyramid[i-1].append(next_value)\n",
    "    return pyramid[0][-1]\n",
    "\n",
    "data = read_file(\"input.txt\")\n",
    "total = sum(predict_next_numbers(build_difference_pyramid(d)) for d in data)\n",
    "\n",
    "total # 2043677056\n"
   ],
   "metadata": {
    "collapsed": false,
    "ExecuteTime": {
     "end_time": "2023-12-09T21:18:56.695783Z",
     "start_time": "2023-12-09T21:18:56.675086Z"
    }
   },
   "id": "ad2622b3714834a3"
  },
  {
   "cell_type": "code",
   "execution_count": 2,
   "outputs": [
    {
     "data": {
      "text/plain": "1062"
     },
     "execution_count": 2,
     "metadata": {},
     "output_type": "execute_result"
    }
   ],
   "source": [
    "def read_file(file_path):\n",
    "    with open(file_path, \"r\") as f:\n",
    "        return [[int(num) for num in line.split()] for line in f.read().splitlines()]\n",
    "\n",
    "def build_difference_pyramid(series):\n",
    "    pyramid = [series]\n",
    "    while len(pyramid[-1]) > 1:\n",
    "        pyramid.append([next - prev for prev, next in zip(pyramid[-1], pyramid[-1][1:])])\n",
    "    return pyramid\n",
    "\n",
    "def predict_previous_numbers(pyramid):\n",
    "    for i in range(len(pyramid) - 1, 0, -1):\n",
    "        pyramid[i].insert(0, pyramid[i][0])\n",
    "        pyramid[i-1].insert(0, pyramid[i-1][0] - pyramid[i][0])\n",
    "    return pyramid[0][0]\n",
    "\n",
    "data = read_file(\"input.txt\")\n",
    "total = sum(predict_previous_numbers(build_difference_pyramid(serie)) for serie in data)\n",
    "\n",
    "total # 1062\n"
   ],
   "metadata": {
    "collapsed": false,
    "ExecuteTime": {
     "end_time": "2023-12-09T21:18:57.123347Z",
     "start_time": "2023-12-09T21:18:57.105817Z"
    }
   },
   "id": "cfb4c524e7edecf4"
  },
  {
   "cell_type": "code",
   "execution_count": null,
   "outputs": [],
   "source": [],
   "metadata": {
    "collapsed": false
   },
   "id": "5f20b9c0de9e319f"
  }
 ],
 "metadata": {
  "kernelspec": {
   "display_name": "Python 3",
   "language": "python",
   "name": "python3"
  },
  "language_info": {
   "codemirror_mode": {
    "name": "ipython",
    "version": 2
   },
   "file_extension": ".py",
   "mimetype": "text/x-python",
   "name": "python",
   "nbconvert_exporter": "python",
   "pygments_lexer": "ipython2",
   "version": "2.7.6"
  }
 },
 "nbformat": 4,
 "nbformat_minor": 5
}
