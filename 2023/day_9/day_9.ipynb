{
 "cells": [
  {
   "cell_type": "markdown",
   "source": [
    "Parte 1"
   ],
   "metadata": {
    "collapsed": false
   },
   "id": "769cc40355f68fa4"
  },
  {
   "cell_type": "code",
   "execution_count": 3,
   "outputs": [
    {
     "data": {
      "text/plain": "2043677056"
     },
     "execution_count": 3,
     "metadata": {},
     "output_type": "execute_result"
    }
   ],
   "source": [
    "def extrapolate(array):\n",
    "    if all(x == 0 for x in array):\n",
    "        return 0\n",
    "    \n",
    "    deltas = [y - x for x, y in zip(array, array[1:])]\n",
    "    diff = extrapolate(deltas)\n",
    "    return array[-1] + diff\n",
    "\n",
    "total = 0\n",
    "for line in open(\"input.txt\", \"r\"):\n",
    "    arr = list(map(int, line.splitlines()[0].split()))\n",
    "    total += extrapolate(array=arr)\n",
    "    \n",
    "total"
   ],
   "metadata": {
    "collapsed": false,
    "ExecuteTime": {
     "end_time": "2023-12-09T21:45:02.847625Z",
     "start_time": "2023-12-09T21:45:02.843165Z"
    }
   },
   "id": "ad2622b3714834a3"
  },
  {
   "cell_type": "code",
   "execution_count": 4,
   "outputs": [
    {
     "data": {
      "text/plain": "1062"
     },
     "execution_count": 4,
     "metadata": {},
     "output_type": "execute_result"
    }
   ],
   "source": [
    "def extrapolate(array):\n",
    "    if all(x == 0 for x in array):\n",
    "        return 0\n",
    "    \n",
    "    deltas = [y - x for x, y in zip(array, array[1:])]\n",
    "    diff = extrapolate(deltas)\n",
    "    return array[0] - diff\n",
    "\n",
    "total = 0\n",
    "for line in open(\"input.txt\", \"r\"):\n",
    "    arr = list(map(int, line.splitlines()[0].split()))\n",
    "    total += extrapolate(array=arr)\n",
    "    \n",
    "total"
   ],
   "metadata": {
    "collapsed": false,
    "ExecuteTime": {
     "end_time": "2023-12-09T21:45:02.993334Z",
     "start_time": "2023-12-09T21:45:02.981143Z"
    }
   },
   "id": "cfb4c524e7edecf4"
  },
  {
   "cell_type": "code",
   "execution_count": null,
   "outputs": [],
   "source": [],
   "metadata": {
    "collapsed": false
   },
   "id": "7d66957e14eb407c"
  }
 ],
 "metadata": {
  "kernelspec": {
   "display_name": "Python 3",
   "language": "python",
   "name": "python3"
  },
  "language_info": {
   "codemirror_mode": {
    "name": "ipython",
    "version": 2
   },
   "file_extension": ".py",
   "mimetype": "text/x-python",
   "name": "python",
   "nbconvert_exporter": "python",
   "pygments_lexer": "ipython2",
   "version": "2.7.6"
  }
 },
 "nbformat": 4,
 "nbformat_minor": 5
}
